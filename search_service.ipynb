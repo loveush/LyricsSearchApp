{
 "cells": [
  {
   "cell_type": "code",
   "execution_count": null,
   "id": "a643790e",
   "metadata": {},
   "outputs": [],
   "source": [
    "import lyricsgenius"
   ]
  },
  {
   "cell_type": "code",
   "execution_count": null,
   "id": "c980eb15",
   "metadata": {},
   "outputs": [],
   "source": [
    "client_access_token = '9srn9NndYAxR7oRSZ1TufUo8Z26uAI7z-ZZv27q-RB7izUz09WNI2l1b8Y9YMJZF'\n",
    "genius = lyricsgenius.Genius(client_access_token, \n",
    "                             remove_section_headers=True, \n",
    "                             skip_non_songs=True, \n",
    "                             timeout=15) "
   ]
  },
  {
   "cell_type": "code",
   "execution_count": null,
   "id": "1d441e15",
   "metadata": {},
   "outputs": [],
   "source": [
    "from flask import Flask, request, jsonify\n",
    "app = Flask(__name__)"
   ]
  },
  {
   "cell_type": "code",
   "execution_count": null,
   "id": "aeb0115b",
   "metadata": {},
   "outputs": [],
   "source": [
    "@app.route('/search', methods=['POST'])\n",
    "\n",
    "def search_songs():\n",
    "    data = request.json\n",
    "    term = data.get(\"term\", \"\")\n",
    "    \n",
    "    if not term:\n",
    "        return jsonify({\"error\": \"Title is required\"}), 400\n",
    "    \n",
    "    try:\n",
    "        response = genius.search_songs(term)\n",
    "        hits = response.get(\"hits\", [])\n",
    "        \n",
    "        songs = [\n",
    "            {\n",
    "                \"title\": hit[\"result\"][\"title\"],\n",
    "                \"artist\": hit[\"result\"][\"primary_artist\"][\"name\"],\n",
    "                \"id\": hit[\"result\"][\"id\"]\n",
    "            }\n",
    "            for hit in hits if hit[\"type\"] == \"song\"\n",
    "        ]\n",
    "        \n",
    "        return jsonify({\"songs\": songs})\n",
    "    \n",
    "    except Exception as e:\n",
    "        return jsonify({\"error\": str(e)}), 500"
   ]
  },
  {
   "cell_type": "code",
   "execution_count": null,
   "id": "e57364ad",
   "metadata": {},
   "outputs": [],
   "source": [
    "@app.route('/lyrics', methods=['POST'])\n",
    "\n",
    "def search_lyrics():\n",
    "    data = request.json\n",
    "    song_id = data.get(\"song_id\", \"\")\n",
    "    \n",
    "    if not song_id:\n",
    "        return jsonify({\"error\": \"Song id is required\"}), 400\n",
    "    \n",
    "    try:\n",
    "        genius_lyrics = genius.lyrics(song_id)\n",
    "        lyrics = genius_lyrics.splitlines()  \n",
    "        trimmed_lyrics = \"\\n\".join(lyrics[2:]) \n",
    "        \n",
    "        return jsonify({\"lyrics\": trimmed_lyrics})\n",
    "    \n",
    "    except Exception as e:\n",
    "        return jsonify({\"error\": str(e)}), 500"
   ]
  },
  {
   "cell_type": "code",
   "execution_count": null,
   "id": "85c7c608",
   "metadata": {
    "scrolled": true
   },
   "outputs": [],
   "source": [
    "if __name__ == \"__main__\":\n",
    "    app.run(port=7000)"
   ]
  },
  {
   "cell_type": "code",
   "execution_count": null,
   "id": "2007f2db",
   "metadata": {},
   "outputs": [],
   "source": []
  }
 ],
 "metadata": {
  "kernelspec": {
   "display_name": "Python 3 (ipykernel)",
   "language": "python",
   "name": "python3"
  },
  "language_info": {
   "codemirror_mode": {
    "name": "ipython",
    "version": 3
   },
   "file_extension": ".py",
   "mimetype": "text/x-python",
   "name": "python",
   "nbconvert_exporter": "python",
   "pygments_lexer": "ipython3",
   "version": "3.9.13"
  }
 },
 "nbformat": 4,
 "nbformat_minor": 5
}
