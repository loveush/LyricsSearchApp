{
 "cells": [
  {
   "cell_type": "code",
   "execution_count": 1,
   "id": "a643790e",
   "metadata": {},
   "outputs": [],
   "source": [
    "import lyricsgenius"
   ]
  },
  {
   "cell_type": "code",
   "execution_count": 2,
   "id": "c980eb15",
   "metadata": {},
   "outputs": [],
   "source": [
    "client_access_token = '9srn9NndYAxR7oRSZ1TufUo8Z26uAI7z-ZZv27q-RB7izUz09WNI2l1b8Y9YMJZF'\n",
    "genius = lyricsgenius.Genius(client_access_token, \n",
    "                             remove_section_headers=True, \n",
    "                             skip_non_songs=True, \n",
    "                             timeout=15) "
   ]
  },
  {
   "cell_type": "code",
   "execution_count": 3,
   "id": "1d441e15",
   "metadata": {},
   "outputs": [],
   "source": [
    "from flask import Flask, request, jsonify\n",
    "app = Flask(__name__)"
   ]
  },
  {
   "cell_type": "code",
   "execution_count": 4,
   "id": "8f344415",
   "metadata": {},
   "outputs": [],
   "source": [
    "@app.route('/search', methods=['POST'])\n",
    "\n",
    "def search_songs():\n",
    "    data = request.json\n",
    "    artist = data.get(\"artist\", \"\")\n",
    "    nb_songs = data.get(\"nb_songs\", 0)\n",
    "    \n",
    "    if not artist:\n",
    "        return jsonify({\"error\": \"Artist name is required\"}), 400\n",
    "    \n",
    "    try:\n",
    "        artist_genius = genius.search_artist(artist, max_songs=nb_songs, sort='popularity')\n",
    "        songs = []\n",
    "        for song in artist_genius.songs:\n",
    "            if song:\n",
    "                lyrics = song.lyrics.splitlines()  \n",
    "                trimmed_lyrics = \"\\n\".join(lyrics[2:]) \n",
    "                songs.append({\n",
    "                    \"artist\": artist,\n",
    "                    \"title\": song.title,\n",
    "                    \"lyrics\": trimmed_lyrics\n",
    "                })\n",
    "        return jsonify({\"songs\": songs})\n",
    "    \n",
    "    except Exception as e:\n",
    "        return jsonify({\"error\": str(e)}), 500"
   ]
  },
  {
   "cell_type": "code",
   "execution_count": null,
   "id": "85c7c608",
   "metadata": {
    "scrolled": true
   },
   "outputs": [
    {
     "name": "stdout",
     "output_type": "stream",
     "text": [
      " * Serving Flask app '__main__'\n",
      " * Debug mode: off\n"
     ]
    },
    {
     "name": "stderr",
     "output_type": "stream",
     "text": [
      "WARNING: This is a development server. Do not use it in a production deployment. Use a production WSGI server instead.\n",
      " * Running on http://127.0.0.1:7000\n",
      "Press CTRL+C to quit\n"
     ]
    },
    {
     "name": "stdout",
     "output_type": "stream",
     "text": [
      "Searching for songs by Stray kids...\n",
      "\n",
      "Changing artist name to 'Stray Kids'\n",
      "Song 1: \"Levanter (English Ver.)\"\n"
     ]
    },
    {
     "name": "stderr",
     "output_type": "stream",
     "text": [
      "127.0.0.1 - - [05/Feb/2025 23:41:03] \"POST /search HTTP/1.1\" 200 -\n"
     ]
    },
    {
     "name": "stdout",
     "output_type": "stream",
     "text": [
      "Song 2: \"DOMINO (English Ver.)\"\n",
      "\n",
      "Reached user-specified song limit (2).\n",
      "Done. Found 2 songs.\n",
      "Searching for songs by Queen...\n",
      "\n",
      "Song 1: \"Bohemian Rhapsody\"\n"
     ]
    },
    {
     "name": "stderr",
     "output_type": "stream",
     "text": [
      "127.0.0.1 - - [05/Feb/2025 23:42:29] \"POST /search HTTP/1.1\" 200 -\n"
     ]
    },
    {
     "name": "stdout",
     "output_type": "stream",
     "text": [
      "Song 2: \"Don’t Stop Me Now\"\n",
      "\n",
      "Reached user-specified song limit (2).\n",
      "Done. Found 2 songs.\n"
     ]
    }
   ],
   "source": [
    "if __name__ == \"__main__\":\n",
    "    app.run(port=7000)"
   ]
  },
  {
   "cell_type": "code",
   "execution_count": null,
   "id": "2007f2db",
   "metadata": {},
   "outputs": [],
   "source": []
  }
 ],
 "metadata": {
  "kernelspec": {
   "display_name": "Python 3 (ipykernel)",
   "language": "python",
   "name": "python3"
  },
  "language_info": {
   "codemirror_mode": {
    "name": "ipython",
    "version": 3
   },
   "file_extension": ".py",
   "mimetype": "text/x-python",
   "name": "python",
   "nbconvert_exporter": "python",
   "pygments_lexer": "ipython3",
   "version": "3.9.13"
  }
 },
 "nbformat": 4,
 "nbformat_minor": 5
}
